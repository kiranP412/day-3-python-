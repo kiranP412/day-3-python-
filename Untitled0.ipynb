{
  "nbformat": 4,
  "nbformat_minor": 0,
  "metadata": {
    "colab": {
      "provenance": [],
      "authorship_tag": "ABX9TyMwBfUzJx4ARX53d+wN+MSX",
      "include_colab_link": true
    },
    "kernelspec": {
      "name": "python3",
      "display_name": "Python 3"
    },
    "language_info": {
      "name": "python"
    }
  },
  "cells": [
    {
      "cell_type": "markdown",
      "metadata": {
        "id": "view-in-github",
        "colab_type": "text"
      },
      "source": [
        "<a href=\"https://colab.research.google.com/github/kiranP412/day-3-python-/blob/main/Untitled0.ipynb\" target=\"_parent\"><img src=\"https://colab.research.google.com/assets/colab-badge.svg\" alt=\"Open In Colab\"/></a>"
      ]
    },
    {
      "cell_type": "code",
      "execution_count": null,
      "metadata": {
        "colab": {
          "base_uri": "https://localhost:8080/"
        },
        "id": "iXeI8ZCauMdv",
        "outputId": "5dfef039-2ade-40de-a61e-a741c9712bb7"
      },
      "outputs": [
        {
          "output_type": "stream",
          "name": "stdout",
          "text": [
            "Hello, World!\n"
          ]
        }
      ],
      "source": [
        "# This is a comment. It will not be executed.\n",
        "print(\"Hello, World!\")"
      ]
    },
    {
      "cell_type": "markdown",
      "source": [
        "getting types of variables"
      ],
      "metadata": {
        "id": "sLssxgDqxj_A"
      }
    },
    {
      "cell_type": "code",
      "source": [
        "# Define variables with different data types\n",
        "a = 42\n",
        "b = 3.14\n",
        "c = \"Hello, World!\"\n",
        "li = [1, 2, 3]\n",
        "d = {'key': 'value'}\n",
        "bool = True\n",
        "\n",
        "# Get and print the type of each variable\n",
        "print(type(a))\n",
        "print(type(b))\n",
        "print(type(c))\n",
        "print(type(li))\n",
        "print(type(d))\n",
        "print(type(bool))"
      ],
      "metadata": {
        "colab": {
          "base_uri": "https://localhost:8080/"
        },
        "id": "Dig440aEx97F",
        "outputId": "209f232a-a9f4-4a51-9135-bf85f17bcb01"
      },
      "execution_count": null,
      "outputs": [
        {
          "output_type": "stream",
          "name": "stdout",
          "text": [
            "<class 'int'>\n",
            "<class 'float'>\n",
            "<class 'str'>\n",
            "<class 'list'>\n",
            "<class 'dict'>\n",
            "<class 'bool'>\n"
          ]
        }
      ]
    },
    {
      "cell_type": "markdown",
      "source": [
        "swapping two variables"
      ],
      "metadata": {
        "id": "QzUlqo2XylEd"
      }
    },
    {
      "cell_type": "code",
      "source": [
        "a, b = 300, 600\n",
        "a, b = b, a\n",
        "print(a, b)\n",
        "\n"
      ],
      "metadata": {
        "colab": {
          "base_uri": "https://localhost:8080/"
        },
        "id": "Pu8At6UjyqW2",
        "outputId": "90be4d83-81eb-4d49-ae2e-1a590e879d9d"
      },
      "execution_count": null,
      "outputs": [
        {
          "output_type": "stream",
          "name": "stdout",
          "text": [
            "600 300\n"
          ]
        }
      ]
    },
    {
      "cell_type": "markdown",
      "source": [
        "Arithmetic operator"
      ],
      "metadata": {
        "id": "5Dcc81gEztfX"
      }
    },
    {
      "cell_type": "code",
      "source": [
        "# Variables\n",
        "a = 9\n",
        "b = 6\n",
        "\n",
        "# Addition\n",
        "print(\"Addition:\", a + b)\n",
        "\n",
        "# Subtraction\n",
        "print(\"Subtraction:\", a - b)\n",
        "\n",
        "# Multiplication\n",
        "print(\"Multiplication:\", a * b)\n",
        "\n",
        "# Division\n",
        "print(\"Division:\", a / b)\n",
        "\n",
        "# Floor Division\n",
        "print(\"Floor Division:\", a // b)\n",
        "\n",
        "# Modulus\n",
        "print(\"Modulus:\", a % b)\n",
        "\n",
        "# Exponentiation\n",
        "print(\"Exponentiation:\", a ** b)"
      ],
      "metadata": {
        "colab": {
          "base_uri": "https://localhost:8080/"
        },
        "id": "Cev9ZAg7z1j-",
        "outputId": "31652fd9-762b-4443-c403-188cc7462e0f"
      },
      "execution_count": null,
      "outputs": [
        {
          "output_type": "stream",
          "name": "stdout",
          "text": [
            "Addition: 15\n",
            "Subtraction: 3\n",
            "Multiplication: 54\n",
            "Division: 1.5\n",
            "Floor Division: 1\n",
            "Modulus: 3\n",
            "Exponentiation: 531441\n"
          ]
        }
      ]
    },
    {
      "cell_type": "markdown",
      "source": [
        "identity operator"
      ],
      "metadata": {
        "id": "PM9E1-SR0RLI"
      }
    },
    {
      "cell_type": "code",
      "source": [
        "a = 1\n",
        "b = 2\n",
        "c = a\n",
        "\n",
        "print(a is not b)\n",
        "print(a is c)"
      ],
      "metadata": {
        "colab": {
          "base_uri": "https://localhost:8080/"
        },
        "id": "0R7ET_X20UzE",
        "outputId": "991932f4-501e-4bbc-c228-aae6cc5a10e1"
      },
      "execution_count": null,
      "outputs": [
        {
          "output_type": "stream",
          "name": "stdout",
          "text": [
            "True\n",
            "True\n"
          ]
        }
      ]
    },
    {
      "cell_type": "markdown",
      "source": [
        "List of Keywords"
      ],
      "metadata": {
        "id": "7_2iJskf00WX"
      }
    },
    {
      "cell_type": "code",
      "source": [
        "import keyword\n",
        "\n",
        "# printing all keywords at once using \"kwlist()\"\n",
        "print(\"The list of keywords is : \")\n",
        "print(keyword.kwlist)"
      ],
      "metadata": {
        "id": "EHCsVT9s04Gd",
        "outputId": "2602997e-97f6-4efe-be3b-4d15f107153c",
        "colab": {
          "base_uri": "https://localhost:8080/"
        }
      },
      "execution_count": null,
      "outputs": [
        {
          "output_type": "stream",
          "name": "stdout",
          "text": [
            "The list of keywords is : \n",
            "['False', 'None', 'True', 'and', 'as', 'assert', 'async', 'await', 'break', 'class', 'continue', 'def', 'del', 'elif', 'else', 'except', 'finally', 'for', 'from', 'global', 'if', 'import', 'in', 'is', 'lambda', 'nonlocal', 'not', 'or', 'pass', 'raise', 'return', 'try', 'while', 'with', 'yield']\n"
          ]
        }
      ]
    },
    {
      "cell_type": "markdown",
      "source": [
        "list data type"
      ],
      "metadata": {
        "id": "dFPOXLY7jIgT"
      }
    },
    {
      "cell_type": "code",
      "source": [
        "# List operations\n",
        "fruits = [\"apple\", \"banana\", \"cherry\"]\n",
        "fruits.append(\"mango\")\n",
        "print(\"Fruits:\", fruits)\n",
        "print(\"First Fruit:\", fruits[0])\n",
        "fruits.remove(\"banana\")\n",
        "print(\"After removing banana:\", fruits)\n"
      ],
      "metadata": {
        "colab": {
          "base_uri": "https://localhost:8080/"
        },
        "id": "ihVP2UewjLlJ",
        "outputId": "c056c6e6-e7c7-48e1-8c98-c85c6973bac6"
      },
      "execution_count": null,
      "outputs": [
        {
          "output_type": "stream",
          "name": "stdout",
          "text": [
            "Fruits: ['apple', 'banana', 'cherry', 'mango']\n",
            "First Fruit: apple\n",
            "After removing banana: ['apple', 'cherry', 'mango']\n"
          ]
        }
      ]
    },
    {
      "cell_type": "markdown",
      "source": [
        "Day 3   recursion"
      ],
      "metadata": {
        "id": "5y58BglaOT2x"
      }
    },
    {
      "cell_type": "code",
      "source": [
        "def fibonacci(n):\n",
        "    if n <= 3:            # base case\n",
        "        return n\n",
        "    else:\n",
        "        return fibonacci(n - 1) + fibonacci(n - 2)\n",
        "\n",
        "for i in range(6):\n",
        "    print(fibonacci(i))\n"
      ],
      "metadata": {
        "colab": {
          "base_uri": "https://localhost:8080/"
        },
        "id": "Uh67NG8SOdK0",
        "outputId": "3220f33c-3d95-43e8-f80b-08c3f2282e75"
      },
      "execution_count": null,
      "outputs": [
        {
          "output_type": "stream",
          "name": "stdout",
          "text": [
            "0\n",
            "1\n",
            "2\n",
            "3\n",
            "5\n",
            "8\n"
          ]
        }
      ]
    },
    {
      "cell_type": "markdown",
      "source": [
        "(Positional Arguments)"
      ],
      "metadata": {
        "id": "iepUqfKcPxHP"
      }
    },
    {
      "cell_type": "code",
      "source": [
        "def add_numbers(*args):\n",
        "    total = 0\n",
        "    for num in args:\n",
        "        total += num\n",
        "    print(\"Sum:\", total)\n",
        "\n",
        "add_numbers( 4, 12)\n",
        "add_numbers(9, 8, 7, 6, 5)\n"
      ],
      "metadata": {
        "colab": {
          "base_uri": "https://localhost:8080/"
        },
        "id": "WnJDcVhfS29t",
        "outputId": "37b77481-face-42d9-f121-08c73dfdc6e8"
      },
      "execution_count": null,
      "outputs": [
        {
          "output_type": "stream",
          "name": "stdout",
          "text": [
            "Sum: 16\n",
            "Sum: 35\n"
          ]
        }
      ]
    },
    {
      "cell_type": "markdown",
      "source": [
        "(Keyword Arguments)"
      ],
      "metadata": {
        "id": "7PHgoKDWTQYr"
      }
    },
    {
      "cell_type": "code",
      "source": [
        "def show_info(**kwargs):\n",
        "    for key, value in kwargs.items():\n",
        "        print(f\"{key}: {value}\")\n",
        "\n",
        "show_info(name=\"Sai\", age=22, city=\"Vizag\")\n"
      ],
      "metadata": {
        "colab": {
          "base_uri": "https://localhost:8080/"
        },
        "id": "dme7vgOMTR3e",
        "outputId": "575c9328-61eb-434d-adf1-f59a76dfc1ce"
      },
      "execution_count": null,
      "outputs": [
        {
          "output_type": "stream",
          "name": "stdout",
          "text": [
            "name: Sai\n",
            "age: 22\n",
            "city: Vizag\n"
          ]
        }
      ]
    },
    {
      "cell_type": "markdown",
      "source": [
        "First class function"
      ],
      "metadata": {
        "id": "uvMHm5VoWddS"
      }
    },
    {
      "cell_type": "code",
      "source": [
        "def add(x, y):\n",
        "    return x + y\n",
        "\n",
        "def operate(func, a, b):\n",
        "    return func(a, b)\n",
        "\n",
        "result = operate(add, 4, 9)\n",
        "print(result)\n"
      ],
      "metadata": {
        "colab": {
          "base_uri": "https://localhost:8080/"
        },
        "id": "5YK_XFlFWZvo",
        "outputId": "8be1f1e1-0761-4882-b2c6-cf98439dd06e"
      },
      "execution_count": null,
      "outputs": [
        {
          "output_type": "stream",
          "name": "stdout",
          "text": [
            "13\n"
          ]
        }
      ]
    },
    {
      "cell_type": "markdown",
      "source": [
        "Lambda with sorted()"
      ],
      "metadata": {
        "id": "blHDLqABXY7R"
      }
    },
    {
      "cell_type": "code",
      "source": [
        "students = [(\"Sai\", 22), (\"Anu\", 20), (\"Kiran\", 25)]\n",
        "sorted_students = sorted(students, key=lambda x: x[1])\n",
        "print(sorted_students)\n"
      ],
      "metadata": {
        "colab": {
          "base_uri": "https://localhost:8080/"
        },
        "id": "c5JUA10oXat3",
        "outputId": "2898be6c-be94-425f-b04a-7a52b6f20bf4"
      },
      "execution_count": null,
      "outputs": [
        {
          "output_type": "stream",
          "name": "stdout",
          "text": [
            "[('Anu', 20), ('Sai', 22), ('Kiran', 25)]\n"
          ]
        }
      ]
    },
    {
      "cell_type": "markdown",
      "source": [
        "Map function"
      ],
      "metadata": {
        "id": "mnq0nKA4YW9U"
      }
    },
    {
      "cell_type": "code",
      "source": [
        "numbers = [1, 2, 3, ]\n",
        "squared_numbers = map(lambda x: x**2, numbers)\n",
        "print(list(squared_numbers))\n"
      ],
      "metadata": {
        "colab": {
          "base_uri": "https://localhost:8080/"
        },
        "id": "6penXG7ZYaDQ",
        "outputId": "2b7e0a7c-4b67-4609-c2ab-9e0950e77536"
      },
      "execution_count": null,
      "outputs": [
        {
          "output_type": "stream",
          "name": "stdout",
          "text": [
            "[1, 4, 9]\n"
          ]
        }
      ]
    },
    {
      "cell_type": "markdown",
      "source": [
        "Filter function"
      ],
      "metadata": {
        "id": "f-wiewEmYgm9"
      }
    },
    {
      "cell_type": "code",
      "source": [
        "def is_even(n):                          #filtering even numbers\n",
        "    return n % 2 == 0\n",
        "\n",
        "numbers = [2, 3, 4, 5, 6, 7, 8, 9, 10]\n",
        "even_numbers = filter(is_even, numbers)\n",
        "\n",
        "print(list(even_numbers))  # Convert to list\n"
      ],
      "metadata": {
        "colab": {
          "base_uri": "https://localhost:8080/"
        },
        "id": "gQsqXYZ3YlfA",
        "outputId": "c74ab1e2-2fae-4e80-d4e0-4b13aa215966"
      },
      "execution_count": null,
      "outputs": [
        {
          "output_type": "stream",
          "name": "stdout",
          "text": [
            "[2, 4, 6, 8, 10]\n"
          ]
        }
      ]
    }
  ]
}