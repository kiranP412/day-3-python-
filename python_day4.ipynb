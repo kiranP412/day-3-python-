{
  "nbformat": 4,
  "nbformat_minor": 0,
  "metadata": {
    "colab": {
      "provenance": [],
      "authorship_tag": "ABX9TyPYiIu1cOS+GZWuNI2rhoHY",
      "include_colab_link": true
    },
    "kernelspec": {
      "name": "python3",
      "display_name": "Python 3"
    },
    "language_info": {
      "name": "python"
    }
  },
  "cells": [
    {
      "cell_type": "markdown",
      "metadata": {
        "id": "view-in-github",
        "colab_type": "text"
      },
      "source": [
        "<a href=\"https://colab.research.google.com/github/kiranP412/day-3-python-/blob/main/python_day4.ipynb\" target=\"_parent\"><img src=\"https://colab.research.google.com/assets/colab-badge.svg\" alt=\"Open In Colab\"/></a>"
      ]
    },
    {
      "cell_type": "markdown",
      "source": [
        "Inner function"
      ],
      "metadata": {
        "id": "c6uM7oBCOUmt"
      }
    },
    {
      "cell_type": "code",
      "execution_count": null,
      "metadata": {
        "colab": {
          "base_uri": "https://localhost:8080/"
        },
        "id": "BHShZKn4MNRa",
        "outputId": "38af287f-f024-4844-eb50-916b49d06032"
      },
      "outputs": [
        {
          "output_type": "stream",
          "name": "stdout",
          "text": [
            "Hii, Team\n"
          ]
        }
      ],
      "source": [
        "def wish(name):\n",
        "    def message():\n",
        "        return \"Hii, \" + name\n",
        "    return message()\n",
        "\n",
        "print(wish(\"Team\"))\n"
      ]
    },
    {
      "cell_type": "code",
      "source": [
        "def fun1(msg):\n",
        "  def fun2():\n",
        "     print(msg)\n",
        "  fun2()\n",
        "fun1(\"hello\")"
      ],
      "metadata": {
        "colab": {
          "base_uri": "https://localhost:8080/"
        },
        "id": "mRggENWbS3_r",
        "outputId": "7ac3e9f9-6742-4fbc-bbcd-409a3434017d"
      },
      "execution_count": null,
      "outputs": [
        {
          "output_type": "stream",
          "name": "stdout",
          "text": [
            "hello\n"
          ]
        }
      ]
    },
    {
      "cell_type": "code",
      "source": [
        "def fun1():\n",
        "  name = \"kiran\"\n",
        "  def fun2():\n",
        "    print(name)\n",
        "  fun2()\n",
        "fun1()\n"
      ],
      "metadata": {
        "colab": {
          "base_uri": "https://localhost:8080/"
        },
        "id": "yjvqGLX8Ypof",
        "outputId": "d18ca343-d1e9-42d6-ca19-5d3e69dcd807"
      },
      "execution_count": null,
      "outputs": [
        {
          "output_type": "stream",
          "name": "stdout",
          "text": [
            "kiran\n"
          ]
        }
      ]
    },
    {
      "cell_type": "code",
      "source": [
        "def fun1():\n",
        "  a = 12\n",
        "  def fun2():\n",
        "    nonlocal a\n",
        "    a = 23\n",
        "    print(a)\n",
        "  fun2()\n",
        "  print(a)\n",
        "fun1()"
      ],
      "metadata": {
        "colab": {
          "base_uri": "https://localhost:8080/"
        },
        "id": "IgeHZgOCZvBg",
        "outputId": "65d2c18a-6460-43f3-f6b7-b8a014ea5e99"
      },
      "execution_count": null,
      "outputs": [
        {
          "output_type": "stream",
          "name": "stdout",
          "text": [
            "23\n",
            "23\n"
          ]
        }
      ]
    },
    {
      "cell_type": "markdown",
      "source": [
        "DECORATOR"
      ],
      "metadata": {
        "id": "DHcipMkDiwSj"
      }
    },
    {
      "cell_type": "code",
      "source": [
        "def fun1(kiran):\n",
        "  def fun2():\n",
        "    print('Hello')\n",
        "    kiran()\n",
        "  return fun2\n",
        "@fun1\n",
        "def fun3():\n",
        "  print ('team')\n",
        "fun3()\n",
        "\n"
      ],
      "metadata": {
        "colab": {
          "base_uri": "https://localhost:8080/"
        },
        "id": "Ky-DkW45i0tj",
        "outputId": "97fd6e32-f6f5-4e19-d2bb-ca8952607bbb"
      },
      "execution_count": null,
      "outputs": [
        {
          "output_type": "stream",
          "name": "stdout",
          "text": [
            "Hello\n",
            "team\n"
          ]
        }
      ]
    },
    {
      "cell_type": "markdown",
      "source": [
        "Decorator with parameters"
      ],
      "metadata": {
        "id": "UreIKpPxLFMY"
      }
    },
    {
      "cell_type": "code",
      "source": [
        "def fun1(func):\n",
        "    def fun2(*args, **kwargs):\n",
        "        print(\"Before call\")\n",
        "        result = func(*args, **kwargs)\n",
        "        print(\"After call\")\n",
        "        return result\n",
        "    return fun2\n",
        "\n",
        "@fun1\n",
        "def add(a, b):\n",
        "    print(\"Add numbers...\")\n",
        "    return a + b\n",
        "\n",
        "print(add(6, 9))\n"
      ],
      "metadata": {
        "colab": {
          "base_uri": "https://localhost:8080/"
        },
        "id": "xokAE_8XKaW8",
        "outputId": "a73b0952-e604-41c8-bf00-e276eceba191"
      },
      "execution_count": null,
      "outputs": [
        {
          "output_type": "stream",
          "name": "stdout",
          "text": [
            "Before call\n",
            "Add numbers...\n",
            "After call\n",
            "15\n"
          ]
        }
      ]
    },
    {
      "cell_type": "markdown",
      "source": [
        "DATA STRUCTURES"
      ],
      "metadata": {
        "id": "MXp6G7NiM6PU"
      }
    },
    {
      "cell_type": "code",
      "source": [
        "Animals = [\"dog\", \"cat\", \"lion\", \"tiger\", \"elephant\"]\n",
        "print(Animals[0])       # dog\n",
        "Animals.append(\"dog\") # add item\n",
        "print(Animals)\n"
      ],
      "metadata": {
        "colab": {
          "base_uri": "https://localhost:8080/"
        },
        "id": "-kMejZzLM_6e",
        "outputId": "f5360d41-9d08-419c-b29a-fa57281fe7e1"
      },
      "execution_count": null,
      "outputs": [
        {
          "output_type": "stream",
          "name": "stdout",
          "text": [
            "dog\n",
            "['dog', 'cat', 'lion', 'tiger', 'elephant', 'dog']\n"
          ]
        }
      ]
    },
    {
      "cell_type": "markdown",
      "source": [
        "Tuple"
      ],
      "metadata": {
        "id": "sAICwmqbOglj"
      }
    },
    {
      "cell_type": "code",
      "source": [
        "places = (\"vizag\", \"hyd\", \"benguluru\")\n",
        "print(places[1])\n"
      ],
      "metadata": {
        "colab": {
          "base_uri": "https://localhost:8080/"
        },
        "id": "nwANt60_OisG",
        "outputId": "a6c63336-05de-4be8-e354-f6a9172bd051"
      },
      "execution_count": null,
      "outputs": [
        {
          "output_type": "stream",
          "name": "stdout",
          "text": [
            "hyd\n"
          ]
        }
      ]
    },
    {
      "cell_type": "markdown",
      "source": [
        "string"
      ],
      "metadata": {
        "id": "umY3eeEHR_jT"
      }
    },
    {
      "cell_type": "code",
      "source": [
        "s1 = 'AbC'  # single quote\n",
        "s2 = \"abc\"  # double quote\n",
        "s3 = '''This is kiran\n",
        "learning python'''  #triple quote\n",
        "print(s1)\n",
        "print(s2)\n",
        "print(s3)"
      ],
      "metadata": {
        "colab": {
          "base_uri": "https://localhost:8080/"
        },
        "id": "8MDH0JKuSBMs",
        "outputId": "0a991f8f-81ef-4fae-9fd2-b41bba6fcbdb"
      },
      "execution_count": null,
      "outputs": [
        {
          "output_type": "stream",
          "name": "stdout",
          "text": [
            "AbC\n",
            "abc\n",
            "This is kiran\n",
            "learning python\n"
          ]
        }
      ]
    },
    {
      "cell_type": "markdown",
      "source": [
        "String Iteration"
      ],
      "metadata": {
        "id": "-hVxganVUIXQ"
      }
    },
    {
      "cell_type": "code",
      "source": [
        "string= \"SAI KIRAN\"\n",
        "for char in string:\n",
        "    print(char)"
      ],
      "metadata": {
        "colab": {
          "base_uri": "https://localhost:8080/"
        },
        "id": "5pI31-eoUMSQ",
        "outputId": "32264e4f-38ec-43cc-b315-c20f632fe623"
      },
      "execution_count": null,
      "outputs": [
        {
          "output_type": "stream",
          "name": "stdout",
          "text": [
            "S\n",
            "A\n",
            "I\n",
            " \n",
            "K\n",
            "I\n",
            "R\n",
            "A\n",
            "N\n"
          ]
        }
      ]
    }
  ]
}